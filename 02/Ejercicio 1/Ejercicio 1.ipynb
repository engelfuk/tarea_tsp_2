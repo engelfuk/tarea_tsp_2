{
 "cells": [
  {
   "cell_type": "markdown",
   "metadata": {},
   "source": [
    "# Tarea 2\n",
    "## Ejercicio 1"
   ]
  },
  {
   "cell_type": "code",
   "execution_count": 99,
   "metadata": {},
   "outputs": [],
   "source": [
    "from sympy import *\n",
    "init_printing()"
   ]
  },
  {
   "cell_type": "markdown",
   "metadata": {},
   "source": [
    "### Declaracion Simbolos"
   ]
  },
  {
   "cell_type": "code",
   "execution_count": 100,
   "metadata": {},
   "outputs": [],
   "source": [
    "l1, l2, l3, l4 = symbols(\"l1 l2 l3 l4\")\n",
    "a, b, c, d, x, y, z = symbols(\"a b c d x y z\")\n",
    "th1, th2, th3, th4 , phi= symbols(\"\\Theta_1 \\Theta_2 \\Theta_3 \\Theta_4 \\Phi\")\n"
   ]
  },
  {
   "cell_type": "code",
   "execution_count": 101,
   "metadata": {},
   "outputs": [],
   "source": [
    "c1, s1 = cos(th1), sin(th1)\n",
    "c2, s2 = cos(th1), sin(th2)\n",
    "c3, s3 = cos(th1), sin(th3)\n",
    "c4, s4 = cos(th1), sin(th4)\n"
   ]
  },
  {
   "cell_type": "code",
   "execution_count": 102,
   "metadata": {},
   "outputs": [
    {
     "data": {
      "text/latex": [
       "$$l_{1} \\cos{\\left (\\Theta_1 \\right )} + l_{2} \\cos{\\left (\\Theta_1 + \\Theta_2 \\right )}$$"
      ],
      "text/plain": [
       "l₁⋅cos(\\Theta₁) + l₂⋅cos(\\Theta₁ + \\Theta₂)"
      ]
     },
     "execution_count": 102,
     "metadata": {},
     "output_type": "execute_result"
    }
   ],
   "source": [
    "px = l1 * c1 + l2 * cos(th1+th2)\n",
    "px"
   ]
  },
  {
   "cell_type": "code",
   "execution_count": 103,
   "metadata": {},
   "outputs": [
    {
     "data": {
      "text/latex": [
       "$$l_{1} \\sin{\\left (\\Theta_1 \\right )} + l_{2} \\sin{\\left (\\Theta_1 + \\Theta_2 \\right )}$$"
      ],
      "text/plain": [
       "l₁⋅sin(\\Theta₁) + l₂⋅sin(\\Theta₁ + \\Theta₂)"
      ]
     },
     "execution_count": 103,
     "metadata": {},
     "output_type": "execute_result"
    }
   ],
   "source": [
    "py = l1 * s1 + l2 * sin(th1+th2)\n",
    "py"
   ]
  },
  {
   "cell_type": "code",
   "execution_count": 104,
   "metadata": {},
   "outputs": [
    {
     "data": {
      "text/latex": [
       "$$\\Theta_4 + l_{3} + l_{4}$$"
      ],
      "text/plain": [
       "\\Theta₄ + l₃ + l₄"
      ]
     },
     "execution_count": 104,
     "metadata": {},
     "output_type": "execute_result"
    }
   ],
   "source": [
    "pz = l3 + l4 + th4\n",
    "pz"
   ]
  },
  {
   "cell_type": "markdown",
   "metadata": {},
   "source": [
    "### Desarrollo"
   ]
  },
  {
   "cell_type": "code",
   "execution_count": 105,
   "metadata": {},
   "outputs": [
    {
     "data": {
      "text/latex": [
       "$$\\Theta_4^{2} + 2 \\Theta_4 l_{3} + 2 \\Theta_4 l_{4} + l_{1}^{2} + 2 l_{1} l_{2} \\cos{\\left (\\Theta_2 \\right )} + l_{2}^{2} + l_{3}^{2} + 2 l_{3} l_{4} + l_{4}^{2}$$"
      ],
      "text/plain": [
       "       2                                   2                            2     \n",
       "\\Theta₄  + 2⋅\\Theta₄⋅l₃ + 2⋅\\Theta₄⋅l₄ + l₁  + 2⋅l₁⋅l₂⋅cos(\\Theta₂) + l₂  + l₃\n",
       "\n",
       "2               2\n",
       "  + 2⋅l₃⋅l₄ + l₄ "
      ]
     },
     "execution_count": 105,
     "metadata": {},
     "output_type": "execute_result"
    }
   ],
   "source": [
    "simplify(px**2 + py**2 + pz**2)"
   ]
  },
  {
   "cell_type": "code",
   "execution_count": 106,
   "metadata": {},
   "outputs": [
    {
     "data": {
      "text/latex": [
       "$$l_{1}^{2} + 2 l_{1} l_{2} \\cos{\\left (\\Theta_2 \\right )} + l_{2}^{2}$$"
      ],
      "text/plain": [
       "  2                            2\n",
       "l₁  + 2⋅l₁⋅l₂⋅cos(\\Theta₂) + l₂ "
      ]
     },
     "execution_count": 106,
     "metadata": {},
     "output_type": "execute_result"
    }
   ],
   "source": [
    "simplify(px**2 + py**2)"
   ]
  },
  {
   "cell_type": "code",
   "execution_count": 107,
   "metadata": {},
   "outputs": [
    {
     "data": {
      "text/latex": [
       "$$\\left(l_{1} \\cos{\\left (\\Theta_1 \\right )} + l_{2} \\cos{\\left (\\Theta_1 + \\Theta_2 \\right )}\\right)^{2} + \\left(\\Theta_4 + l_{3} + l_{4}\\right)^{2}$$"
      ],
      "text/plain": [
       "                                             2                      2\n",
       "(l₁⋅cos(\\Theta₁) + l₂⋅cos(\\Theta₁ + \\Theta₂))  + (\\Theta₄ + l₃ + l₄) "
      ]
     },
     "execution_count": 107,
     "metadata": {},
     "output_type": "execute_result"
    }
   ],
   "source": [
    "simplify(px**2 + pz**2)"
   ]
  },
  {
   "cell_type": "code",
   "execution_count": 108,
   "metadata": {},
   "outputs": [
    {
     "data": {
      "text/latex": [
       "$$\\left(l_{1} \\sin{\\left (\\Theta_1 \\right )} + l_{2} \\sin{\\left (\\Theta_1 + \\Theta_2 \\right )}\\right)^{2} + \\left(\\Theta_4 + l_{3} + l_{4}\\right)^{2}$$"
      ],
      "text/plain": [
       "                                             2                      2\n",
       "(l₁⋅sin(\\Theta₁) + l₂⋅sin(\\Theta₁ + \\Theta₂))  + (\\Theta₄ + l₃ + l₄) "
      ]
     },
     "execution_count": 108,
     "metadata": {},
     "output_type": "execute_result"
    }
   ],
   "source": [
    "simplify(py**2 + pz**2)"
   ]
  },
  {
   "cell_type": "markdown",
   "metadata": {},
   "source": [
    "#### Encontramos el valor de cos(th2)"
   ]
  },
  {
   "cell_type": "code",
   "execution_count": 109,
   "metadata": {},
   "outputs": [
    {
     "data": {
      "text/latex": [
       "$$\\frac{1}{2 l_{1} l_{2}} \\left(- l_{1}^{2} - l_{2}^{2} + x^{2} + y^{2}\\right)$$"
      ],
      "text/plain": [
       "    2     2    2    2\n",
       "- l₁  - l₂  + x  + y \n",
       "─────────────────────\n",
       "       2⋅l₁⋅l₂       "
      ]
     },
     "execution_count": 109,
     "metadata": {},
     "output_type": "execute_result"
    }
   ],
   "source": [
    "costh2 = solve(_8-x**2-y**2,cos(th2))[0]\n",
    "costh2\n"
   ]
  },
  {
   "cell_type": "markdown",
   "metadata": {},
   "source": [
    "### Teorema\n",
    "cos(Θ) = b\n",
    "\n",
    "Θ = +-atan2(sqrt(1-b**2),b)"
   ]
  },
  {
   "cell_type": "code",
   "execution_count": 110,
   "metadata": {},
   "outputs": [],
   "source": [
    "theta2 = atan2(sqrt(1-costh2**2),costh2)\n"
   ]
  },
  {
   "cell_type": "markdown",
   "metadata": {},
   "source": [
    "### Por lo tanto th2"
   ]
  },
  {
   "cell_type": "code",
   "execution_count": 111,
   "metadata": {},
   "outputs": [
    {
     "data": {
      "text/latex": [
       "$$\\operatorname{atan_{2}}{\\left (\\sqrt{1 - \\frac{1}{4 l_{1}^{2} l_{2}^{2}} \\left(- l_{1}^{2} - l_{2}^{2} + x^{2} + y^{2}\\right)^{2}},\\frac{1}{2 l_{1} l_{2}} \\left(- l_{1}^{2} - l_{2}^{2} + x^{2} + y^{2}\\right) \\right )}$$"
      ],
      "text/plain": [
       "     ⎛       ______________________________                       ⎞\n",
       "     ⎜      ╱                            2                        ⎟\n",
       "     ⎜     ╱      ⎛    2     2    2    2⎞        2     2    2    2⎟\n",
       "     ⎜    ╱       ⎝- l₁  - l₂  + x  + y ⎠    - l₁  - l₂  + x  + y ⎟\n",
       "atan2⎜   ╱    1 - ──────────────────────── , ─────────────────────⎟\n",
       "     ⎜  ╱                    2   2                  2⋅l₁⋅l₂       ⎟\n",
       "     ⎝╲╱                 4⋅l₁ ⋅l₂                                 ⎠"
      ]
     },
     "execution_count": 111,
     "metadata": {},
     "output_type": "execute_result"
    }
   ],
   "source": [
    "theta2"
   ]
  },
  {
   "cell_type": "markdown",
   "metadata": {},
   "source": [
    "### Procedemos a encontrar theta1\n"
   ]
  },
  {
   "cell_type": "markdown",
   "metadata": {},
   "source": [
    "Expandimos la excuacion de px"
   ]
  },
  {
   "cell_type": "code",
   "execution_count": 112,
   "metadata": {},
   "outputs": [
    {
     "data": {
      "text/latex": [
       "$$l_{1} \\cos{\\left (\\Theta_1 \\right )} + l_{2} \\left(- \\sin{\\left (\\Theta_1 \\right )} \\sin{\\left (\\Theta_2 \\right )} + \\cos{\\left (\\Theta_1 \\right )} \\cos{\\left (\\Theta_2 \\right )}\\right)$$"
      ],
      "text/plain": [
       "l₁⋅cos(\\Theta₁) + l₂⋅(-sin(\\Theta₁)⋅sin(\\Theta₂) + cos(\\Theta₁)⋅cos(\\Theta₂))"
      ]
     },
     "execution_count": 112,
     "metadata": {},
     "output_type": "execute_result"
    }
   ],
   "source": [
    "px = expand_trig(px)\n",
    "px"
   ]
  },
  {
   "cell_type": "markdown",
   "metadata": {},
   "source": [
    "Expandimos la ecuacion py"
   ]
  },
  {
   "cell_type": "code",
   "execution_count": 113,
   "metadata": {},
   "outputs": [
    {
     "data": {
      "text/latex": [
       "$$l_{1} \\sin{\\left (\\Theta_1 \\right )} + l_{2} \\left(\\sin{\\left (\\Theta_1 \\right )} \\cos{\\left (\\Theta_2 \\right )} + \\sin{\\left (\\Theta_2 \\right )} \\cos{\\left (\\Theta_1 \\right )}\\right)$$"
      ],
      "text/plain": [
       "l₁⋅sin(\\Theta₁) + l₂⋅(sin(\\Theta₁)⋅cos(\\Theta₂) + sin(\\Theta₂)⋅cos(\\Theta₁))"
      ]
     },
     "execution_count": 113,
     "metadata": {},
     "output_type": "execute_result"
    }
   ],
   "source": [
    "py = expand_trig(py)\n",
    "py"
   ]
  },
  {
   "cell_type": "markdown",
   "metadata": {},
   "source": [
    "Factorizamos y realizamos cambio de variable de los valores conocidos de la ecuacion expandida de px\n"
   ]
  },
  {
   "cell_type": "code",
   "execution_count": 114,
   "metadata": {},
   "outputs": [
    {
     "data": {
      "text/latex": [
       "$$- l_{2} \\sin{\\left (\\Theta_1 \\right )} \\sin{\\left (\\Theta_2 \\right )} - x + \\left(l_{1} + l_{2} \\cos{\\left (\\Theta_2 \\right )}\\right) \\cos{\\left (\\Theta_1 \\right )}$$"
      ],
      "text/plain": [
       "-l₂⋅sin(\\Theta₁)⋅sin(\\Theta₂) - x + (l₁ + l₂⋅cos(\\Theta₂))⋅cos(\\Theta₁)"
      ]
     },
     "execution_count": 114,
     "metadata": {},
     "output_type": "execute_result"
    }
   ],
   "source": [
    "factor(px,sin(th1),cos(th1))-x"
   ]
  },
  {
   "cell_type": "code",
   "execution_count": 115,
   "metadata": {},
   "outputs": [
    {
     "data": {
      "text/latex": [
       "$$a \\cos{\\left (\\Theta_1 \\right )} - l_{2} \\sin{\\left (\\Theta_1 \\right )} \\sin{\\left (\\Theta_2 \\right )} - x$$"
      ],
      "text/plain": [
       "a⋅cos(\\Theta₁) - l₂⋅sin(\\Theta₁)⋅sin(\\Theta₂) - x"
      ]
     },
     "execution_count": 115,
     "metadata": {},
     "output_type": "execute_result"
    }
   ],
   "source": [
    "_.subs(l1+l2*cos(th2),a)"
   ]
  },
  {
   "cell_type": "code",
   "execution_count": 116,
   "metadata": {},
   "outputs": [
    {
     "data": {
      "text/latex": [
       "$$a \\cos{\\left (\\Theta_1 \\right )} - b \\sin{\\left (\\Theta_1 \\right )} - x$$"
      ],
      "text/plain": [
       "a⋅cos(\\Theta₁) - b⋅sin(\\Theta₁) - x"
      ]
     },
     "execution_count": 116,
     "metadata": {},
     "output_type": "execute_result"
    }
   ],
   "source": [
    "_.subs(l2*sin(th2),b)"
   ]
  },
  {
   "cell_type": "markdown",
   "metadata": {},
   "source": [
    "Factorizamos y realizamos cambio de variable de los valos valores contantes para la ecuacion expandida de py\n"
   ]
  },
  {
   "cell_type": "code",
   "execution_count": 117,
   "metadata": {},
   "outputs": [
    {
     "data": {
      "text/latex": [
       "$$l_{2} \\sin{\\left (\\Theta_2 \\right )} \\cos{\\left (\\Theta_1 \\right )} - y + \\left(l_{1} + l_{2} \\cos{\\left (\\Theta_2 \\right )}\\right) \\sin{\\left (\\Theta_1 \\right )}$$"
      ],
      "text/plain": [
       "l₂⋅sin(\\Theta₂)⋅cos(\\Theta₁) - y + (l₁ + l₂⋅cos(\\Theta₂))⋅sin(\\Theta₁)"
      ]
     },
     "execution_count": 117,
     "metadata": {},
     "output_type": "execute_result"
    }
   ],
   "source": [
    "factor(py,sin(th1),cos(th1))-y\n",
    "\n"
   ]
  },
  {
   "cell_type": "code",
   "execution_count": 118,
   "metadata": {},
   "outputs": [
    {
     "data": {
      "text/latex": [
       "$$a \\sin{\\left (\\Theta_1 \\right )} + l_{2} \\sin{\\left (\\Theta_2 \\right )} \\cos{\\left (\\Theta_1 \\right )} - y$$"
      ],
      "text/plain": [
       "a⋅sin(\\Theta₁) + l₂⋅sin(\\Theta₂)⋅cos(\\Theta₁) - y"
      ]
     },
     "execution_count": 118,
     "metadata": {},
     "output_type": "execute_result"
    }
   ],
   "source": [
    "_.subs(l1+l2*cos(th2),a)"
   ]
  },
  {
   "cell_type": "code",
   "execution_count": 119,
   "metadata": {},
   "outputs": [
    {
     "data": {
      "text/latex": [
       "$$a \\sin{\\left (\\Theta_1 \\right )} + b \\cos{\\left (\\Theta_1 \\right )} - y$$"
      ],
      "text/plain": [
       "a⋅sin(\\Theta₁) + b⋅cos(\\Theta₁) - y"
      ]
     },
     "execution_count": 119,
     "metadata": {},
     "output_type": "execute_result"
    }
   ],
   "source": [
    "_.subs(l2*sin(th2),b)"
   ]
  },
  {
   "cell_type": "markdown",
   "metadata": {},
   "source": [
    "### Teorema\n",
    "a * cos(Θ1) - b * sin(Θ1) = x\n",
    "\n",
    "a * sin(Θ1) + b * cos(Θ1) = y\n",
    "\n",
    "Θ1 = atan2(y,x) - atan2(b,a)"
   ]
  },
  {
   "cell_type": "code",
   "execution_count": 120,
   "metadata": {},
   "outputs": [
    {
     "data": {
      "text/latex": [
       "$$l_{1} + l_{2} \\cos{\\left (\\Theta_2 \\right )}$$"
      ],
      "text/plain": [
       "l₁ + l₂⋅cos(\\Theta₂)"
      ]
     },
     "execution_count": 120,
     "metadata": {},
     "output_type": "execute_result"
    }
   ],
   "source": [
    "a = l1+l2*cos(th2)\n",
    "a"
   ]
  },
  {
   "cell_type": "code",
   "execution_count": 121,
   "metadata": {},
   "outputs": [
    {
     "data": {
      "text/latex": [
       "$$l_{2} \\sin{\\left (\\Theta_2 \\right )}$$"
      ],
      "text/plain": [
       "l₂⋅sin(\\Theta₂)"
      ]
     },
     "execution_count": 121,
     "metadata": {},
     "output_type": "execute_result"
    }
   ],
   "source": [
    "b = l2*sin(th2)\n",
    "b"
   ]
  },
  {
   "cell_type": "code",
   "execution_count": 122,
   "metadata": {},
   "outputs": [],
   "source": [
    "theta1 = atan2(y,x) - atan2(b,a)\n"
   ]
  },
  {
   "cell_type": "markdown",
   "metadata": {},
   "source": [
    "Resultando th1 ="
   ]
  },
  {
   "cell_type": "code",
   "execution_count": 123,
   "metadata": {},
   "outputs": [
    {
     "data": {
      "text/latex": [
       "$$\\operatorname{atan_{2}}{\\left (y,x \\right )} - \\operatorname{atan_{2}}{\\left (l_{2} \\sin{\\left (\\Theta_2 \\right )},l_{1} + l_{2} \\cos{\\left (\\Theta_2 \\right )} \\right )}$$"
      ],
      "text/plain": [
       "atan2(y, x) - atan2(l₂⋅sin(\\Theta₂), l₁ + l₂⋅cos(\\Theta₂))"
      ]
     },
     "execution_count": 123,
     "metadata": {},
     "output_type": "execute_result"
    }
   ],
   "source": [
    "theta1"
   ]
  },
  {
   "cell_type": "markdown",
   "metadata": {},
   "source": [
    "Sabemos que th1 + th2 + th3 = phi\n",
    "\n",
    "y tanto como th1, th2 y phi son valores conocidos por lo tanto th3\n"
   ]
  },
  {
   "cell_type": "code",
   "execution_count": 124,
   "metadata": {},
   "outputs": [
    {
     "data": {
      "text/latex": [
       "$$\\Phi - \\Theta_1 - \\Theta_2$$"
      ],
      "text/plain": [
       "\\Phi - \\Theta₁ - \\Theta₂"
      ]
     },
     "execution_count": 124,
     "metadata": {},
     "output_type": "execute_result"
    }
   ],
   "source": [
    "theta3 = phi - th1 - th2\n",
    "theta3"
   ]
  },
  {
   "cell_type": "markdown",
   "metadata": {},
   "source": [
    "sustituyendo los valores de th1 y th2"
   ]
  },
  {
   "cell_type": "code",
   "execution_count": 125,
   "metadata": {},
   "outputs": [
    {
     "data": {
      "text/latex": [
       "$$\\Phi - \\operatorname{atan_{2}}{\\left (y,x \\right )} + \\operatorname{atan_{2}}{\\left (l_{2} \\sin{\\left (\\Theta_2 \\right )},l_{1} + l_{2} \\cos{\\left (\\Theta_2 \\right )} \\right )} - \\operatorname{atan_{2}}{\\left (\\sqrt{1 - \\frac{1}{4 l_{1}^{2} l_{2}^{2}} \\left(- l_{1}^{2} - l_{2}^{2} + x^{2} + y^{2}\\right)^{2}},\\frac{1}{2 l_{1} l_{2}} \\left(- l_{1}^{2} - l_{2}^{2} + x^{2} + y^{2}\\right) \\right )}$$"
      ],
      "text/plain": [
       "                                                                         ⎛    \n",
       "                                                                         ⎜    \n",
       "                                                                         ⎜    \n",
       "                                                                         ⎜    \n",
       "\\Phi - atan2(y, x) + atan2(l₂⋅sin(\\Theta₂), l₁ + l₂⋅cos(\\Theta₂)) - atan2⎜   ╱\n",
       "                                                                         ⎜  ╱ \n",
       "                                                                         ⎝╲╱  \n",
       "\n",
       "   ______________________________                       ⎞\n",
       "  ╱                            2                        ⎟\n",
       " ╱      ⎛    2     2    2    2⎞        2     2    2    2⎟\n",
       "╱       ⎝- l₁  - l₂  + x  + y ⎠    - l₁  - l₂  + x  + y ⎟\n",
       "    1 - ──────────────────────── , ─────────────────────⎟\n",
       "                   2   2                  2⋅l₁⋅l₂       ⎟\n",
       "               4⋅l₁ ⋅l₂                                 ⎠"
      ]
     },
     "execution_count": 125,
     "metadata": {},
     "output_type": "execute_result"
    }
   ],
   "source": [
    "theta3 = phi - theta1 - theta2\n",
    "theta3"
   ]
  },
  {
   "cell_type": "markdown",
   "metadata": {},
   "source": [
    "Sabemos que z = l3 + l4 + th4\n",
    "\n",
    "por lo tanto despejando th4. ya que tanto como\n",
    "\n",
    "l3, l4, z son valores conocidos"
   ]
  },
  {
   "cell_type": "code",
   "execution_count": 126,
   "metadata": {},
   "outputs": [
    {
     "data": {
      "text/latex": [
       "$$- l_{3} - l_{4} + z$$"
      ],
      "text/plain": [
       "-l₃ - l₄ + z"
      ]
     },
     "execution_count": 126,
     "metadata": {},
     "output_type": "execute_result"
    }
   ],
   "source": [
    "theta4 = z - l3 - l4\n",
    "theta4"
   ]
  },
  {
   "cell_type": "markdown",
   "metadata": {},
   "source": [
    "Por lo que hemos encontrado los valores the th1, th2 , th3 y th4 en terminos de x, y, z y phi"
   ]
  },
  {
   "cell_type": "code",
   "execution_count": 127,
   "metadata": {},
   "outputs": [
    {
     "data": {
      "text/latex": [
       "$$\\operatorname{atan_{2}}{\\left (y,x \\right )} - \\operatorname{atan_{2}}{\\left (l_{2} \\sin{\\left (\\Theta_2 \\right )},l_{1} + l_{2} \\cos{\\left (\\Theta_2 \\right )} \\right )}$$"
      ],
      "text/plain": [
       "atan2(y, x) - atan2(l₂⋅sin(\\Theta₂), l₁ + l₂⋅cos(\\Theta₂))"
      ]
     },
     "execution_count": 127,
     "metadata": {},
     "output_type": "execute_result"
    }
   ],
   "source": [
    "theta1"
   ]
  },
  {
   "cell_type": "code",
   "execution_count": 128,
   "metadata": {},
   "outputs": [
    {
     "data": {
      "text/latex": [
       "$$\\operatorname{atan_{2}}{\\left (\\sqrt{1 - \\frac{1}{4 l_{1}^{2} l_{2}^{2}} \\left(- l_{1}^{2} - l_{2}^{2} + x^{2} + y^{2}\\right)^{2}},\\frac{1}{2 l_{1} l_{2}} \\left(- l_{1}^{2} - l_{2}^{2} + x^{2} + y^{2}\\right) \\right )}$$"
      ],
      "text/plain": [
       "     ⎛       ______________________________                       ⎞\n",
       "     ⎜      ╱                            2                        ⎟\n",
       "     ⎜     ╱      ⎛    2     2    2    2⎞        2     2    2    2⎟\n",
       "     ⎜    ╱       ⎝- l₁  - l₂  + x  + y ⎠    - l₁  - l₂  + x  + y ⎟\n",
       "atan2⎜   ╱    1 - ──────────────────────── , ─────────────────────⎟\n",
       "     ⎜  ╱                    2   2                  2⋅l₁⋅l₂       ⎟\n",
       "     ⎝╲╱                 4⋅l₁ ⋅l₂                                 ⎠"
      ]
     },
     "execution_count": 128,
     "metadata": {},
     "output_type": "execute_result"
    }
   ],
   "source": [
    "theta2"
   ]
  },
  {
   "cell_type": "code",
   "execution_count": 129,
   "metadata": {},
   "outputs": [
    {
     "data": {
      "text/latex": [
       "$$\\Phi - \\operatorname{atan_{2}}{\\left (y,x \\right )} + \\operatorname{atan_{2}}{\\left (l_{2} \\sin{\\left (\\Theta_2 \\right )},l_{1} + l_{2} \\cos{\\left (\\Theta_2 \\right )} \\right )} - \\operatorname{atan_{2}}{\\left (\\sqrt{1 - \\frac{1}{4 l_{1}^{2} l_{2}^{2}} \\left(- l_{1}^{2} - l_{2}^{2} + x^{2} + y^{2}\\right)^{2}},\\frac{1}{2 l_{1} l_{2}} \\left(- l_{1}^{2} - l_{2}^{2} + x^{2} + y^{2}\\right) \\right )}$$"
      ],
      "text/plain": [
       "                                                                         ⎛    \n",
       "                                                                         ⎜    \n",
       "                                                                         ⎜    \n",
       "                                                                         ⎜    \n",
       "\\Phi - atan2(y, x) + atan2(l₂⋅sin(\\Theta₂), l₁ + l₂⋅cos(\\Theta₂)) - atan2⎜   ╱\n",
       "                                                                         ⎜  ╱ \n",
       "                                                                         ⎝╲╱  \n",
       "\n",
       "   ______________________________                       ⎞\n",
       "  ╱                            2                        ⎟\n",
       " ╱      ⎛    2     2    2    2⎞        2     2    2    2⎟\n",
       "╱       ⎝- l₁  - l₂  + x  + y ⎠    - l₁  - l₂  + x  + y ⎟\n",
       "    1 - ──────────────────────── , ─────────────────────⎟\n",
       "                   2   2                  2⋅l₁⋅l₂       ⎟\n",
       "               4⋅l₁ ⋅l₂                                 ⎠"
      ]
     },
     "execution_count": 129,
     "metadata": {},
     "output_type": "execute_result"
    }
   ],
   "source": [
    "theta3"
   ]
  },
  {
   "cell_type": "code",
   "execution_count": 130,
   "metadata": {},
   "outputs": [
    {
     "data": {
      "text/latex": [
       "$$- l_{3} - l_{4} + z$$"
      ],
      "text/plain": [
       "-l₃ - l₄ + z"
      ]
     },
     "execution_count": 130,
     "metadata": {},
     "output_type": "execute_result"
    }
   ],
   "source": [
    "theta4"
   ]
  },
  {
   "cell_type": "code",
   "execution_count": null,
   "metadata": {},
   "outputs": [],
   "source": []
  }
 ],
 "metadata": {
  "kernelspec": {
   "display_name": "Python 3",
   "language": "python",
   "name": "python3"
  },
  "language_info": {
   "codemirror_mode": {
    "name": "ipython",
    "version": 3
   },
   "file_extension": ".py",
   "mimetype": "text/x-python",
   "name": "python",
   "nbconvert_exporter": "python",
   "pygments_lexer": "ipython3",
   "version": "3.4.3"
  }
 },
 "nbformat": 4,
 "nbformat_minor": 2
}
